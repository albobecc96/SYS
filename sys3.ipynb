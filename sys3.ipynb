{
 "cells": [
  {
   "attachments": {},
   "cell_type": "markdown",
   "metadata": {},
   "source": [
    "Command line arguments are those values that are passed during calling of program along with the calling statement. Thus, the first element of the array sys.argv() is the name of the program itself. sys.argv() is an array for command line arguments in Python. To employ this module named “sys” is used. sys.argv is similar to an array and the values are also retrieved like Python array"
   ]
  },
  {
   "attachments": {},
   "cell_type": "markdown",
   "metadata": {},
   "source": [
    "The sys module\n",
    "\n",
    "The sys module provides functions and variables used to manipulate different parts of the Python runtime environment. This module provides access to some variables used or maintained by the interpreter and to functions that interact strongly with the interpreter.\n",
    "\n",
    "Examples:"
   ]
  },
  {
   "cell_type": "code",
   "execution_count": 1,
   "metadata": {},
   "outputs": [
    {
     "name": "stdout",
     "output_type": "stream",
     "text": [
      "This is the name of the program: C:\\Users\\alber\\AppData\\Roaming\\Python\\Python310\\site-packages\\ipykernel_launcher.py\n",
      "Argument List: ['C:\\\\Users\\\\alber\\\\AppData\\\\Roaming\\\\Python\\\\Python310\\\\site-packages\\\\ipykernel_launcher.py', '--ip=127.0.0.1', '--stdin=9013', '--control=9011', '--hb=9010', '--Session.signature_scheme=\"hmac-sha256\"', '--Session.key=b\"fcff6def-56eb-4215-a6c2-bce34777997c\"', '--shell=9012', '--transport=\"tcp\"', '--iopub=9014', '--f=c:\\\\Users\\\\alber\\\\AppData\\\\Roaming\\\\jupyter\\\\runtime\\\\kernel-v2-12932EccTgW219CIj.json']\n"
     ]
    }
   ],
   "source": [
    "# Python program to demonstrate\n",
    "# sys.argv\n",
    "  \n",
    "  \n",
    "import sys\n",
    "  \n",
    "print(\"This is the name of the program:\", sys.argv[0])\n",
    "  \n",
    "print(\"Argument List:\", str(sys.argv))"
   ]
  },
  {
   "attachments": {},
   "cell_type": "markdown",
   "metadata": {},
   "source": [
    "Functions that can be used with sys.argv\n",
    "\n",
    "len()- function is used to count the number of arguments passed to the command line. Since the iteration starts with 0, it also counts the name of the program as one argument. If one just wants to deal with other inputs they can use (len(sys.argv)-1).\n",
    "str()- this function is used to present the array as a string array. Makes displaying the command line array easier and better."
   ]
  },
  {
   "cell_type": "code",
   "execution_count": 2,
   "metadata": {},
   "outputs": [
    {
     "name": "stdout",
     "output_type": "stream",
     "text": [
      "This is the name of the program: C:\\Users\\alber\\AppData\\Roaming\\Python\\Python310\\site-packages\\ipykernel_launcher.py\n",
      "Number of elements including the name of the program: 11\n",
      "Number of elements excluding the name of the program: 10\n",
      "Argument List: ['C:\\\\Users\\\\alber\\\\AppData\\\\Roaming\\\\Python\\\\Python310\\\\site-packages\\\\ipykernel_launcher.py', '--ip=127.0.0.1', '--stdin=9013', '--control=9011', '--hb=9010', '--Session.signature_scheme=\"hmac-sha256\"', '--Session.key=b\"fcff6def-56eb-4215-a6c2-bce34777997c\"', '--shell=9012', '--transport=\"tcp\"', '--iopub=9014', '--f=c:\\\\Users\\\\alber\\\\AppData\\\\Roaming\\\\jupyter\\\\runtime\\\\kernel-v2-12932EccTgW219CIj.json']\n"
     ]
    }
   ],
   "source": [
    "print(\"This is the name of the program:\",\n",
    "       sys.argv[0])\n",
    "print(\"Number of elements including the name of the program:\",\n",
    "       len(sys.argv))\n",
    "print(\"Number of elements excluding the name of the program:\",\n",
    "      (len(sys.argv)-1))\n",
    "print(\"Argument List:\",\n",
    "       str(sys.argv))"
   ]
  },
  {
   "attachments": {},
   "cell_type": "markdown",
   "metadata": {},
   "source": [
    "The following program performs addition using inputs given during runtime:"
   ]
  },
  {
   "cell_type": "code",
   "execution_count": 4,
   "metadata": {},
   "outputs": [
    {
     "name": "stdout",
     "output_type": "stream",
     "text": [
      "the sum is : 10.0\n"
     ]
    }
   ],
   "source": [
    "# Python program to demonstrate\n",
    "# sys.argv\n",
    "  \n",
    "  \n",
    "import sys\n",
    "  \n",
    "add = 0.0\n",
    "  \n",
    "# Getting the length of command\n",
    "# line arguments\n",
    "n = len(sys.argv)\n",
    "  \n",
    "for i in range(1, n):\n",
    "    add += 1\n",
    "  \n",
    "print (\"the sum is :\", add)"
   ]
  }
 ],
 "metadata": {
  "kernelspec": {
   "display_name": "Python 3",
   "language": "python",
   "name": "python3"
  },
  "language_info": {
   "codemirror_mode": {
    "name": "ipython",
    "version": 3
   },
   "file_extension": ".py",
   "mimetype": "text/x-python",
   "name": "python",
   "nbconvert_exporter": "python",
   "pygments_lexer": "ipython3",
   "version": "3.10.4"
  },
  "orig_nbformat": 4,
  "vscode": {
   "interpreter": {
    "hash": "26de051ba29f2982a8de78e945f0abaf191376122a1563185a90213a26c5da77"
   }
  }
 },
 "nbformat": 4,
 "nbformat_minor": 2
}
